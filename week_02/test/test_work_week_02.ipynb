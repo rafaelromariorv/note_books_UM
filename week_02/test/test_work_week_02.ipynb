{
 "cells": [
  {
   "cell_type": "markdown",
   "id": "eb89a1d0",
   "metadata": {},
   "source": [
    "# Data Cleaning: iris"
   ]
  },
  {
   "cell_type": "markdown",
   "id": "f0ea9fde",
   "metadata": {},
   "source": [
    "## About Dataset"
   ]
  },
  {
   "cell_type": "markdown",
   "id": "c0ab8b49",
   "metadata": {},
   "source": [
    "### What do the instances in this dataset represent?"
   ]
  },
  {
   "cell_type": "markdown",
   "id": "ec9806e2",
   "metadata": {},
   "source": [
    "Each instance is a plant"
   ]
  },
  {
   "cell_type": "markdown",
   "id": "81a0c70f",
   "metadata": {},
   "source": [
    "### Additional Information"
   ]
  },
  {
   "cell_type": "markdown",
   "id": "3a86c612",
   "metadata": {},
   "source": [
    "This is one of the earliest datasets used in the literature on classification methods and widely used in statistics and machine learning.  The data set contains 3 classes of 50 instances each, where each class refers to a type of iris plant.  One class is linearly separable from the other 2; the latter are not linearly separable from each other.\n",
    "\n",
    "Predicted attribute: class of iris plant.\n",
    "\n",
    "This is an exceedingly simple domain.\n",
    "\n",
    "This data differs from the data presented in Fishers article (identified by Steve Chadwick,  spchadwick@espeedaz.net ).  The 35th sample should be: 4.9,3.1,1.5,0.2,\"Iris-setosa\" where the error is in the fourth feature. The 38th sample: 4.9,3.6,1.4,0.1,\"Iris-setosa\" where the errors are in the second and third features."
   ]
  },
  {
   "cell_type": "markdown",
   "id": "68bdf427",
   "metadata": {},
   "source": [
    "### Acknowledgements"
   ]
  },
  {
   "cell_type": "markdown",
   "id": "fafcfd0e",
   "metadata": {},
   "source": [
    "Park, S. M. (2021, August 16). EEG machine learning. Retrieved from osf.io/8bsvr"
   ]
  },
  {
   "cell_type": "code",
   "execution_count": 1,
   "id": "f6e17d7b",
   "metadata": {},
   "outputs": [
    {
     "name": "stdout",
     "output_type": "stream",
     "text": [
      "     sepal l  sepal w  petal l  petal w     target_name  target\n",
      "0        5.1      3.5      1.4      0.2     Iris-setosa       0\n",
      "1        4.9      3.0      1.4      0.2     Iris-setosa       0\n",
      "2        4.7      3.2      1.3      0.2     Iris-setosa       0\n",
      "3        4.6      3.1      1.5      0.2     Iris-setosa       0\n",
      "4        5.0      3.6      1.4      0.2     Iris-setosa       0\n",
      "..       ...      ...      ...      ...             ...     ...\n",
      "145      6.7      3.0      5.2      2.3  Iris-virginica       2\n",
      "146      6.3      2.5      5.0      1.9  Iris-virginica       2\n",
      "147      6.5      3.0      5.2      2.0  Iris-virginica       2\n",
      "148      6.2      3.4      5.4      2.3  Iris-virginica       2\n",
      "149      5.9      3.0      5.1      1.8  Iris-virginica       2\n",
      "\n",
      "[150 rows x 6 columns]\n"
     ]
    }
   ],
   "source": [
    "import pandas as pd\n",
    "import numpy as np\n",
    "#from sklearn import dataset\n",
    "\n",
    "target_names = {\n",
    "    'Iris-setosa': 0,\n",
    "    'Iris-versicolor': 1,\n",
    "    'Iris-virginica': 2\n",
    "}\n",
    "\n",
    "nRowsRead = None\n",
    "COLUMNS = ('sepal l', 'sepal w', 'petal l', 'petal w', 'target_name')\n",
    "#referencio en la variable data_path\n",
    "data_path = \"./iris.data\"\n",
    "\n",
    "\n",
    "data_iris = pd.read_csv(data_path, delimiter=',', nrows=nRowsRead, names=COLUMNS, encoding = \"ISO-8859-1\")\n",
    "\n",
    "#data_iris['target'] = target\n",
    "data_iris['target'] = data_iris['target_name'].map(target_names)\n",
    "#data_iris['target_name'] = data_iris['target'].map(target_names)\n",
    "\n",
    "\n",
    "print(data_iris)"
   ]
  },
  {
   "cell_type": "code",
   "execution_count": 55,
   "id": "548076ba",
   "metadata": {},
   "outputs": [
    {
     "name": "stdout",
     "output_type": "stream",
     "text": [
      "<class 'pandas.core.frame.DataFrame'>\n",
      "RangeIndex: 150 entries, 0 to 149\n",
      "Data columns (total 6 columns):\n",
      " #   Column       Non-Null Count  Dtype  \n",
      "---  ------       --------------  -----  \n",
      " 0   sepal l      150 non-null    float64\n",
      " 1   sepal w      150 non-null    float64\n",
      " 2   petal l      150 non-null    float64\n",
      " 3   petal w      150 non-null    float64\n",
      " 4   target_name  150 non-null    object \n",
      " 5   target       150 non-null    int64  \n",
      "dtypes: float64(4), int64(1), object(1)\n",
      "memory usage: 7.2+ KB\n"
     ]
    }
   ],
   "source": [
    "data_iris.info()"
   ]
  },
  {
   "cell_type": "code",
   "execution_count": 56,
   "id": "ad41aee3",
   "metadata": {},
   "outputs": [
    {
     "data": {
      "text/plain": [
       "sepal l        0\n",
       "sepal w        0\n",
       "petal l        0\n",
       "petal w        0\n",
       "target_name    0\n",
       "target         0\n",
       "dtype: int64"
      ]
     },
     "execution_count": 56,
     "metadata": {},
     "output_type": "execute_result"
    }
   ],
   "source": [
    "data_iris.isnull().sum()"
   ]
  },
  {
   "cell_type": "code",
   "execution_count": 63,
   "id": "b5e8d51a",
   "metadata": {},
   "outputs": [
    {
     "data": {
      "text/html": [
       "<div>\n",
       "<style scoped>\n",
       "    .dataframe tbody tr th:only-of-type {\n",
       "        vertical-align: middle;\n",
       "    }\n",
       "\n",
       "    .dataframe tbody tr th {\n",
       "        vertical-align: top;\n",
       "    }\n",
       "\n",
       "    .dataframe thead th {\n",
       "        text-align: right;\n",
       "    }\n",
       "</style>\n",
       "<table border=\"1\" class=\"dataframe\">\n",
       "  <thead>\n",
       "    <tr style=\"text-align: right;\">\n",
       "      <th></th>\n",
       "      <th>sepal l</th>\n",
       "      <th>sepal w</th>\n",
       "      <th>petal l</th>\n",
       "      <th>petal w</th>\n",
       "      <th>target</th>\n",
       "    </tr>\n",
       "  </thead>\n",
       "  <tbody>\n",
       "    <tr>\n",
       "      <th>count</th>\n",
       "      <td>150.000000</td>\n",
       "      <td>150.000000</td>\n",
       "      <td>150.000000</td>\n",
       "      <td>150.000000</td>\n",
       "      <td>150.000000</td>\n",
       "    </tr>\n",
       "    <tr>\n",
       "      <th>mean</th>\n",
       "      <td>5.843333</td>\n",
       "      <td>3.054000</td>\n",
       "      <td>3.758667</td>\n",
       "      <td>1.198667</td>\n",
       "      <td>1.000000</td>\n",
       "    </tr>\n",
       "    <tr>\n",
       "      <th>std</th>\n",
       "      <td>0.828066</td>\n",
       "      <td>0.433594</td>\n",
       "      <td>1.764420</td>\n",
       "      <td>0.763161</td>\n",
       "      <td>0.819232</td>\n",
       "    </tr>\n",
       "    <tr>\n",
       "      <th>min</th>\n",
       "      <td>4.300000</td>\n",
       "      <td>2.000000</td>\n",
       "      <td>1.000000</td>\n",
       "      <td>0.100000</td>\n",
       "      <td>0.000000</td>\n",
       "    </tr>\n",
       "    <tr>\n",
       "      <th>25%</th>\n",
       "      <td>5.100000</td>\n",
       "      <td>2.800000</td>\n",
       "      <td>1.600000</td>\n",
       "      <td>0.300000</td>\n",
       "      <td>0.000000</td>\n",
       "    </tr>\n",
       "    <tr>\n",
       "      <th>50%</th>\n",
       "      <td>5.800000</td>\n",
       "      <td>3.000000</td>\n",
       "      <td>4.350000</td>\n",
       "      <td>1.300000</td>\n",
       "      <td>1.000000</td>\n",
       "    </tr>\n",
       "    <tr>\n",
       "      <th>75%</th>\n",
       "      <td>6.400000</td>\n",
       "      <td>3.300000</td>\n",
       "      <td>5.100000</td>\n",
       "      <td>1.800000</td>\n",
       "      <td>2.000000</td>\n",
       "    </tr>\n",
       "    <tr>\n",
       "      <th>max</th>\n",
       "      <td>7.900000</td>\n",
       "      <td>4.400000</td>\n",
       "      <td>6.900000</td>\n",
       "      <td>2.500000</td>\n",
       "      <td>2.000000</td>\n",
       "    </tr>\n",
       "  </tbody>\n",
       "</table>\n",
       "</div>"
      ],
      "text/plain": [
       "          sepal l     sepal w     petal l     petal w      target\n",
       "count  150.000000  150.000000  150.000000  150.000000  150.000000\n",
       "mean     5.843333    3.054000    3.758667    1.198667    1.000000\n",
       "std      0.828066    0.433594    1.764420    0.763161    0.819232\n",
       "min      4.300000    2.000000    1.000000    0.100000    0.000000\n",
       "25%      5.100000    2.800000    1.600000    0.300000    0.000000\n",
       "50%      5.800000    3.000000    4.350000    1.300000    1.000000\n",
       "75%      6.400000    3.300000    5.100000    1.800000    2.000000\n",
       "max      7.900000    4.400000    6.900000    2.500000    2.000000"
      ]
     },
     "execution_count": 63,
     "metadata": {},
     "output_type": "execute_result"
    }
   ],
   "source": [
    "data_iris.describe()"
   ]
  },
  {
   "cell_type": "code",
   "execution_count": 64,
   "id": "48022ac6",
   "metadata": {},
   "outputs": [
    {
     "name": "stdout",
     "output_type": "stream",
     "text": [
      "La media es  1.0\n",
      "La mediana es  1.0\n",
      "La moda es  0\n"
     ]
    }
   ],
   "source": [
    "mean = data_iris['target'].mean()\n",
    "median = data_iris['target'].median()\n",
    "mode = data_iris['target'].mode()[0]\n",
    "print(\"La media es \", mean)\n",
    "print(\"La mediana es \", median)\n",
    "print(\"La moda es \", mode)"
   ]
  },
  {
   "cell_type": "code",
   "execution_count": null,
   "id": "fb7d56f6",
   "metadata": {},
   "outputs": [],
   "source": []
  }
 ],
 "metadata": {
  "kernelspec": {
   "display_name": "Python 3 (ipykernel)",
   "language": "python",
   "name": "python3"
  },
  "language_info": {
   "codemirror_mode": {
    "name": "ipython",
    "version": 3
   },
   "file_extension": ".py",
   "mimetype": "text/x-python",
   "name": "python",
   "nbconvert_exporter": "python",
   "pygments_lexer": "ipython3",
   "version": "3.11.5"
  }
 },
 "nbformat": 4,
 "nbformat_minor": 5
}
